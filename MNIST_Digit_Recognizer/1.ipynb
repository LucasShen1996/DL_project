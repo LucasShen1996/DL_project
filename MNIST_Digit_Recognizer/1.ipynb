{
 "cells": [
  {
   "cell_type": "code",
   "execution_count": 2,
   "id": "97e0e9ae-c91b-447a-8954-ecbef483b7c1",
   "metadata": {},
   "outputs": [],
   "source": [
    "import warnings\n",
    "warnings.filterwarnings(\"ignore\")"
   ]
  },
  {
   "cell_type": "code",
   "execution_count": 5,
   "id": "285f6a7c-7f6d-42f2-a8f8-b5c7a0570f03",
   "metadata": {},
   "outputs": [],
   "source": [
    "import pandas as pd\n",
    "import numpy as np\n",
    "import seaborn as sns\n",
    "\n",
    "np.random.seed(2020)"
   ]
  },
  {
   "cell_type": "code",
   "execution_count": 14,
   "id": "fec1aaf9-e72c-414e-9aba-a9d77ea561dc",
   "metadata": {},
   "outputs": [],
   "source": [
    "import tensorflow as tf\n",
    "from sklearn.model_selection import train_test_split\n",
    "from sklearn.metrics import confusion_matrix\n",
    "import itertools\n",
    "\n",
    "from tensorflow.keras.utils import to_categorical # convert to one-hot-encoding\n",
    "from tensorflow.keras.models import Sequential\n",
    "from tensorflow.keras.layers import Dense, Dropout, Flatten, Conv2D, MaxPool2D, BatchNormalization\n",
    "from tensorflow.keras.optimizers import RMSprop\n",
    "from tensorflow.keras.preprocessing.image import ImageDataGenerator\n",
    "from tensorflow.keras.callbacks import ReduceLROnPlateau\n",
    "from tensorflow.keras.datasets import mnist\n",
    "\n",
    "sns.set(style='white', context='notebook', palette='deep')"
   ]
  },
  {
   "cell_type": "code",
   "execution_count": 8,
   "id": "fdc0afbd-e471-4f5d-a07f-3bf5fe5f6a70",
   "metadata": {},
   "outputs": [],
   "source": [
    "train = pd.read_csv('./Data/train.csv')\n",
    "test = pd.read_csv('./Data/test.csv')\n",
    "sub = pd.read_csv('./Data/sample_submission.csv')\n"
   ]
  },
  {
   "cell_type": "code",
   "execution_count": 10,
   "id": "3e6c9b8e-3454-4c92-80b2-bf0f2704b381",
   "metadata": {},
   "outputs": [
    {
     "name": "stdout",
     "output_type": "stream",
     "text": [
      "Training data size is (42000, 785)\n",
      "Testing data size is (28000, 784)\n"
     ]
    }
   ],
   "source": [
    "print(f\"Training data size is {train.shape}\\nTesting data size is {test.shape}\")"
   ]
  },
  {
   "cell_type": "code",
   "execution_count": 11,
   "id": "40a844a9-6968-4925-973b-a85a71928255",
   "metadata": {},
   "outputs": [],
   "source": [
    "Y_train = train[\"label\"]\n",
    "X_train = train.drop(labels = [\"label\"], axis = 1) "
   ]
  },
  {
   "cell_type": "code",
   "execution_count": 15,
   "id": "363595ca-9f06-4402-a8d7-757da3cdf790",
   "metadata": {},
   "outputs": [],
   "source": [
    "(x_train1, y_train1), (x_test1, y_test1) = mnist.load_data()\n",
    "\n",
    "train1 = np.concatenate([x_train1, x_test1], axis=0)\n",
    "y_train1 = np.concatenate([y_train1, y_test1], axis=0)\n",
    "\n",
    "Y_train1 = y_train1\n",
    "X_train1 = train1.reshape(-1, 28*28)"
   ]
  },
  {
   "cell_type": "code",
   "execution_count": 16,
   "id": "a15fb79e-b8e1-4fb3-852c-342007ed0f3a",
   "metadata": {},
   "outputs": [
    {
     "data": {
      "image/png": "[encoded data removed]",
      "text/plain": [
       "<Figure size 432x288 with 1 Axes>"
      ]
     },
     "metadata": {},
     "output_type": "display_data"
    }
   ],
   "source": [
    "# Print data histogram\n",
    "sns.countplot(Y_train);"
   ]
  },
  {
   "cell_type": "code",
   "execution_count": 17,
   "id": "f6ac9254-52e2-493c-a057-35fa367cfd0e",
   "metadata": {},
   "outputs": [],
   "source": [
    "# Normalize data to make CNN faster\n",
    "X_train = X_train / 255.0\n",
    "test = test / 255.0\n",
    "X_train1 = X_train1 / 255.0"
   ]
  },
  {
   "cell_type": "code",
   "execution_count": 18,
   "id": "dfc47e71-6a94-4ea7-9e60-9a7749634ab9",
   "metadata": {},
   "outputs": [],
   "source": [
    "# Reshape Picture is 3D array (height = 28px, width = 28px , canal = 1)\n",
    "X_train = np.concatenate((X_train.values, X_train1))\n",
    "Y_train = np.concatenate((Y_train, Y_train1))"
   ]
  },
  {
   "cell_type": "code",
   "execution_count": 19,
   "id": "9f31c558-ff61-45b9-b6c1-41d888a76e11",
   "metadata": {},
   "outputs": [],
   "source": [
    "# Reshape image in 3 dimensions (height = 28px, width = 28px , canal = 1)\n",
    "# canal = 1 => For gray scale\n",
    "X_train = X_train.reshape(-1,28,28,1)\n",
    "test = test.values.reshape(-1,28,28,1)"
   ]
  },
  {
   "cell_type": "code",
   "execution_count": 20,
   "id": "21f393fd-4cc7-4e27-94ce-5fcf35b42670",
   "metadata": {},
   "outputs": [],
   "source": [
    "# Convert label to one hot vectors (ex : 2 -> [0,0,1,0,0,0,0,0,0,0])\n",
    "Y_train = to_categorical(Y_train, num_classes = 10)"
   ]
  },
  {
   "cell_type": "code",
   "execution_count": 21,
   "id": "513e4378-f96c-4919-ac3c-a3c9eb163334",
   "metadata": {},
   "outputs": [],
   "source": [
    "# Split the train and the validation set for the fitting\n",
    "X_train, X_val, Y_train, Y_val = train_test_split(X_train, Y_train, test_size = 0.1, random_state=2)"
   ]
  },
  {
   "cell_type": "code",
   "execution_count": 22,
   "id": "3de2a29f-807c-4f25-81ce-454edbe42bbe",
   "metadata": {},
   "outputs": [
    {
     "data": {
      "text/plain": [
       "((100800, 28, 28, 1), (11200, 28, 28, 1), (100800, 10), (11200, 10))"
      ]
     },
     "execution_count": 22,
     "metadata": {},
     "output_type": "execute_result"
    }
   ],
   "source": [
    "X_train.shape, X_val.shape, Y_train.shape, Y_val.shape"
   ]
  },
  {
   "cell_type": "code",
   "execution_count": 24,
   "id": "ff7e186a-b806-4eef-bb52-cfd6070fe90a",
   "metadata": {},
   "outputs": [],
   "source": [
    "#Creating CNN model\n",
    "\"\"\"\n",
    "  [[Conv2D->relu]*2 -> BatchNormalization -> MaxPool2D -> Dropout]*2 -> \n",
    "  [Conv2D->relu]*2 -> BatchNormalization -> Dropout -> \n",
    "  Flatten -> Dense -> BatchNormalization -> Dropout -> Out\n",
    "\"\"\"\n",
    "model = Sequential()\n",
    "\n",
    "model.add(Conv2D(filters = 64, kernel_size = (5,5),padding = 'Same', activation ='relu', input_shape = (28,28,1)))\n",
    "model.add(BatchNormalization())\n",
    "\n",
    "model.add(Conv2D(filters = 64, kernel_size = (5,5),padding = 'Same', activation ='relu'))\n",
    "model.add(BatchNormalization())\n",
    "\n",
    "model.add(MaxPool2D(pool_size=(2,2)))\n",
    "model.add(Dropout(0.25))\n",
    "\n",
    "model.add(Conv2D(filters = 64, kernel_size = (3,3),padding = 'Same', activation ='relu'))\n",
    "model.add(BatchNormalization())\n",
    "\n",
    "model.add(Conv2D(filters = 64, kernel_size = (3,3),padding = 'Same', activation ='relu'))\n",
    "model.add(BatchNormalization())\n",
    "model.add(MaxPool2D(pool_size=(2,2), strides=(2,2)))\n",
    "model.add(Dropout(0.25))\n",
    "\n",
    "model.add(Conv2D(filters = 64, kernel_size = (3,3), padding = 'Same',  activation ='relu'))\n",
    "model.add(BatchNormalization())\n",
    "model.add(Dropout(0.25))\n",
    "\n",
    "model.add(Flatten())\n",
    "model.add(Dense(256, activation = \"relu\"))\n",
    "model.add(BatchNormalization())\n",
    "model.add(Dropout(0.25))\n",
    "\n",
    "model.add(Dense(10, activation = \"softmax\"))"
   ]
  },
  {
   "cell_type": "code",
   "execution_count": 32,
   "id": "46c7c019-06cb-48d5-8443-e6572be0a713",
   "metadata": {},
   "outputs": [],
   "source": [
    "# Define Optimizer\n",
    "optimizer = RMSprop(lr=0.001, rho=0.9, epsilon=1e-08, decay=0.0)"
   ]
  },
  {
   "cell_type": "code",
   "execution_count": 34,
   "id": "4a71e9f1-dc75-4631-8f35-4209fc884a7d",
   "metadata": {},
   "outputs": [],
   "source": [
    "# Compile model\n",
    "model.compile(optimizer = optimizer , loss = \"categorical_crossentropy\", metrics=[\"accuracy\"])"
   ]
  },
  {
   "cell_type": "code",
   "execution_count": 35,
   "id": "35457870-e3e4-43dd-adc0-05ae95f98817",
   "metadata": {},
   "outputs": [],
   "source": [
    "# Audjusting learning rate\n",
    "learning_rate_reduction = ReduceLROnPlateau(monitor='val_accuracy', \n",
    "                                            patience=3, \n",
    "                                            verbose=1, \n",
    "                                            factor=0.5, \n",
    "                                            min_lr=0.00001)"
   ]
  },
  {
   "cell_type": "code",
   "execution_count": 45,
   "id": "6c5f2cce-d8de-4f2f-8f49-4781f2aa8eba",
   "metadata": {},
   "outputs": [],
   "source": [
    "#Adjusting epochs and batch_size\n",
    "epochs = 50\n",
    "batch_size = 128"
   ]
  },
  {
   "cell_type": "code",
   "execution_count": 37,
   "id": "0b7b393d-ea7b-4a8b-95c0-0790c0abb2dd",
   "metadata": {},
   "outputs": [],
   "source": [
    "#Data Augmentation \n",
    "datagen = ImageDataGenerator(\n",
    "        featurewise_center=False, # set input mean to 0 over the dataset\n",
    "        samplewise_center=False,  # set each sample mean to 0\n",
    "        featurewise_std_normalization=False,  # divide inputs by std of the dataset\n",
    "        samplewise_std_normalization=False,  # divide each input by its std\n",
    "        zca_whitening=False,  # apply ZCA whitening\n",
    "        rotation_range=10,  # randomly rotate images in the range (degrees, 0 to 180)\n",
    "        zoom_range = 0.1, # Randomly zoom image \n",
    "        width_shift_range=0.1,  # randomly shift images horizontally (fraction of total width)\n",
    "        height_shift_range=0.1,  # randomly shift images vertically (fraction of total height)\n",
    "        horizontal_flip=False,  # randomly flip images\n",
    "        vertical_flip=False)  # randomly flip images\n",
    "\n",
    "#datagen.fit(X_train)\n",
    "train_gen = datagen.flow(X_train,Y_train, batch_size=batch_size)"
   ]
  },
  {
   "cell_type": "code",
   "execution_count": 46,
   "id": "9c106f11-6e50-46bd-b367-1541a83f4af9",
   "metadata": {},
   "outputs": [
    {
     "name": "stdout",
     "output_type": "stream",
     "text": [
      "Epoch 1/50\n",
      "WARNING:tensorflow:Learning rate reduction is conditioned on metric `val_acc` which is not available. Available metrics are: loss,accuracy,val_loss,val_accuracy,lr\n",
      "787/787 - 20s - loss: 0.0282 - accuracy: 0.9913 - val_loss: 0.0194 - val_accuracy: 0.9937 - lr: 0.0010 - 20s/epoch - 25ms/step\n",
      "Epoch 2/50\n",
      "WARNING:tensorflow:Learning rate reduction is conditioned on metric `val_acc` which is not available. Available metrics are: loss,accuracy,val_loss,val_accuracy,lr\n",
      "787/787 - 19s - loss: 0.0254 - accuracy: 0.9923 - val_loss: 0.0173 - val_accuracy: 0.9954 - lr: 0.0010 - 19s/epoch - 25ms/step\n",
      "Epoch 3/50\n",
      "WARNING:tensorflow:Learning rate reduction is conditioned on metric `val_acc` which is not available. Available metrics are: loss,accuracy,val_loss,val_accuracy,lr\n",
      "787/787 - 19s - loss: 0.0248 - accuracy: 0.9924 - val_loss: 0.0133 - val_accuracy: 0.9955 - lr: 0.0010 - 19s/epoch - 24ms/step\n",
      "Epoch 4/50\n",
      "WARNING:tensorflow:Learning rate reduction is conditioned on metric `val_acc` which is not available. Available metrics are: loss,accuracy,val_loss,val_accuracy,lr\n",
      "787/787 - 20s - loss: 0.0234 - accuracy: 0.9930 - val_loss: 0.0165 - val_accuracy: 0.9953 - lr: 0.0010 - 20s/epoch - 25ms/step\n",
      "Epoch 5/50\n",
      "WARNING:tensorflow:Learning rate reduction is conditioned on metric `val_acc` which is not available. Available metrics are: loss,accuracy,val_loss,val_accuracy,lr\n",
      "787/787 - 19s - loss: 0.0216 - accuracy: 0.9937 - val_loss: 0.0158 - val_accuracy: 0.9953 - lr: 0.0010 - 19s/epoch - 25ms/step\n",
      "Epoch 6/50\n",
      "WARNING:tensorflow:Learning rate reduction is conditioned on metric `val_acc` which is not available. Available metrics are: loss,accuracy,val_loss,val_accuracy,lr\n",
      "787/787 - 19s - loss: 0.0215 - accuracy: 0.9934 - val_loss: 0.0128 - val_accuracy: 0.9966 - lr: 0.0010 - 19s/epoch - 25ms/step\n",
      "Epoch 7/50\n",
      "WARNING:tensorflow:Learning rate reduction is conditioned on metric `val_acc` which is not available. Available metrics are: loss,accuracy,val_loss,val_accuracy,lr\n",
      "787/787 - 19s - loss: 0.0205 - accuracy: 0.9939 - val_loss: 0.0121 - val_accuracy: 0.9965 - lr: 0.0010 - 19s/epoch - 24ms/step\n",
      "Epoch 8/50\n",
      "WARNING:tensorflow:Learning rate reduction is conditioned on metric `val_acc` which is not available. Available metrics are: loss,accuracy,val_loss,val_accuracy,lr\n",
      "787/787 - 19s - loss: 0.0188 - accuracy: 0.9942 - val_loss: 0.0112 - val_accuracy: 0.9963 - lr: 0.0010 - 19s/epoch - 24ms/step\n",
      "Epoch 9/50\n",
      "WARNING:tensorflow:Learning rate reduction is conditioned on metric `val_acc` which is not available. Available metrics are: loss,accuracy,val_loss,val_accuracy,lr\n",
      "787/787 - 19s - loss: 0.0176 - accuracy: 0.9947 - val_loss: 0.0139 - val_accuracy: 0.9961 - lr: 0.0010 - 19s/epoch - 24ms/step\n",
      "Epoch 10/50\n",
      "WARNING:tensorflow:Learning rate reduction is conditioned on metric `val_acc` which is not available. Available metrics are: loss,accuracy,val_loss,val_accuracy,lr\n",
      "787/787 - 19s - loss: 0.0177 - accuracy: 0.9947 - val_loss: 0.0129 - val_accuracy: 0.9964 - lr: 0.0010 - 19s/epoch - 24ms/step\n",
      "Epoch 11/50\n",
      "WARNING:tensorflow:Learning rate reduction is conditioned on metric `val_acc` which is not available. Available metrics are: loss,accuracy,val_loss,val_accuracy,lr\n",
      "787/787 - 19s - loss: 0.0178 - accuracy: 0.9948 - val_loss: 0.0128 - val_accuracy: 0.9966 - lr: 0.0010 - 19s/epoch - 24ms/step\n",
      "Epoch 12/50\n",
      "WARNING:tensorflow:Learning rate reduction is conditioned on metric `val_acc` which is not available. Available metrics are: loss,accuracy,val_loss,val_accuracy,lr\n",
      "787/787 - 19s - loss: 0.0163 - accuracy: 0.9951 - val_loss: 0.0116 - val_accuracy: 0.9967 - lr: 0.0010 - 19s/epoch - 24ms/step\n",
      "Epoch 13/50\n",
      "WARNING:tensorflow:Learning rate reduction is conditioned on metric `val_acc` which is not available. Available metrics are: loss,accuracy,val_loss,val_accuracy,lr\n",
      "787/787 - 20s - loss: 0.0166 - accuracy: 0.9952 - val_loss: 0.0126 - val_accuracy: 0.9967 - lr: 0.0010 - 20s/epoch - 25ms/step\n",
      "Epoch 14/50\n",
      "WARNING:tensorflow:Learning rate reduction is conditioned on metric `val_acc` which is not available. Available metrics are: loss,accuracy,val_loss,val_accuracy,lr\n",
      "787/787 - 19s - loss: 0.0158 - accuracy: 0.9952 - val_loss: 0.0094 - val_accuracy: 0.9978 - lr: 0.0010 - 19s/epoch - 24ms/step\n",
      "Epoch 15/50\n",
      "WARNING:tensorflow:Learning rate reduction is conditioned on metric `val_acc` which is not available. Available metrics are: loss,accuracy,val_loss,val_accuracy,lr\n",
      "787/787 - 19s - loss: 0.0150 - accuracy: 0.9955 - val_loss: 0.0088 - val_accuracy: 0.9974 - lr: 0.0010 - 19s/epoch - 24ms/step\n",
      "Epoch 16/50\n",
      "WARNING:tensorflow:Learning rate reduction is conditioned on metric `val_acc` which is not available. Available metrics are: loss,accuracy,val_loss,val_accuracy,lr\n",
      "787/787 - 19s - loss: 0.0153 - accuracy: 0.9954 - val_loss: 0.0093 - val_accuracy: 0.9973 - lr: 0.0010 - 19s/epoch - 24ms/step\n",
      "Epoch 17/50\n",
      "WARNING:tensorflow:Learning rate reduction is conditioned on metric `val_acc` which is not available. Available metrics are: loss,accuracy,val_loss,val_accuracy,lr\n",
      "787/787 - 19s - loss: 0.0152 - accuracy: 0.9956 - val_loss: 0.0096 - val_accuracy: 0.9977 - lr: 0.0010 - 19s/epoch - 24ms/step\n",
      "Epoch 18/50\n",
      "WARNING:tensorflow:Learning rate reduction is conditioned on metric `val_acc` which is not available. Available metrics are: loss,accuracy,val_loss,val_accuracy,lr\n",
      "787/787 - 19s - loss: 0.0140 - accuracy: 0.9961 - val_loss: 0.0099 - val_accuracy: 0.9971 - lr: 0.0010 - 19s/epoch - 25ms/step\n",
      "Epoch 19/50\n",
      "WARNING:tensorflow:Learning rate reduction is conditioned on metric `val_acc` which is not available. Available metrics are: loss,accuracy,val_loss,val_accuracy,lr\n",
      "787/787 - 20s - loss: 0.0145 - accuracy: 0.9957 - val_loss: 0.0140 - val_accuracy: 0.9962 - lr: 0.0010 - 20s/epoch - 25ms/step\n",
      "Epoch 20/50\n",
      "WARNING:tensorflow:Learning rate reduction is conditioned on metric `val_acc` which is not available. Available metrics are: loss,accuracy,val_loss,val_accuracy,lr\n",
      "787/787 - 19s - loss: 0.0146 - accuracy: 0.9958 - val_loss: 0.0116 - val_accuracy: 0.9967 - lr: 0.0010 - 19s/epoch - 24ms/step\n",
      "Epoch 21/50\n",
      "WARNING:tensorflow:Learning rate reduction is conditioned on metric `val_acc` which is not available. Available metrics are: loss,accuracy,val_loss,val_accuracy,lr\n",
      "787/787 - 19s - loss: 0.0138 - accuracy: 0.9959 - val_loss: 0.0106 - val_accuracy: 0.9976 - lr: 0.0010 - 19s/epoch - 24ms/step\n",
      "Epoch 22/50\n",
      "WARNING:tensorflow:Learning rate reduction is conditioned on metric `val_acc` which is not available. Available metrics are: loss,accuracy,val_loss,val_accuracy,lr\n",
      "787/787 - 19s - loss: 0.0132 - accuracy: 0.9959 - val_loss: 0.0108 - val_accuracy: 0.9971 - lr: 0.0010 - 19s/epoch - 25ms/step\n",
      "Epoch 23/50\n",
      "WARNING:tensorflow:Learning rate reduction is conditioned on metric `val_acc` which is not available. Available metrics are: loss,accuracy,val_loss,val_accuracy,lr\n",
      "787/787 - 19s - loss: 0.0139 - accuracy: 0.9958 - val_loss: 0.0086 - val_accuracy: 0.9979 - lr: 0.0010 - 19s/epoch - 24ms/step\n",
      "Epoch 24/50\n",
      "WARNING:tensorflow:Learning rate reduction is conditioned on metric `val_acc` which is not available. Available metrics are: loss,accuracy,val_loss,val_accuracy,lr\n",
      "787/787 - 19s - loss: 0.0128 - accuracy: 0.9959 - val_loss: 0.0083 - val_accuracy: 0.9977 - lr: 0.0010 - 19s/epoch - 24ms/step\n",
      "Epoch 25/50\n",
      "WARNING:tensorflow:Learning rate reduction is conditioned on metric `val_acc` which is not available. Available metrics are: loss,accuracy,val_loss,val_accuracy,lr\n",
      "787/787 - 19s - loss: 0.0128 - accuracy: 0.9962 - val_loss: 0.0093 - val_accuracy: 0.9974 - lr: 0.0010 - 19s/epoch - 24ms/step\n",
      "Epoch 26/50\n",
      "WARNING:tensorflow:Learning rate reduction is conditioned on metric `val_acc` which is not available. Available metrics are: loss,accuracy,val_loss,val_accuracy,lr\n",
      "787/787 - 19s - loss: 0.0125 - accuracy: 0.9964 - val_loss: 0.0101 - val_accuracy: 0.9972 - lr: 0.0010 - 19s/epoch - 24ms/step\n",
      "Epoch 27/50\n",
      "WARNING:tensorflow:Learning rate reduction is conditioned on metric `val_acc` which is not available. Available metrics are: loss,accuracy,val_loss,val_accuracy,lr\n",
      "787/787 - 19s - loss: 0.0116 - accuracy: 0.9967 - val_loss: 0.0086 - val_accuracy: 0.9981 - lr: 0.0010 - 19s/epoch - 24ms/step\n",
      "Epoch 28/50\n",
      "WARNING:tensorflow:Learning rate reduction is conditioned on metric `val_acc` which is not available. Available metrics are: loss,accuracy,val_loss,val_accuracy,lr\n",
      "787/787 - 19s - loss: 0.0121 - accuracy: 0.9964 - val_loss: 0.0103 - val_accuracy: 0.9977 - lr: 0.0010 - 19s/epoch - 24ms/step\n",
      "Epoch 29/50\n",
      "WARNING:tensorflow:Learning rate reduction is conditioned on metric `val_acc` which is not available. Available metrics are: loss,accuracy,val_loss,val_accuracy,lr\n",
      "787/787 - 19s - loss: 0.0115 - accuracy: 0.9965 - val_loss: 0.0086 - val_accuracy: 0.9976 - lr: 0.0010 - 19s/epoch - 24ms/step\n",
      "Epoch 30/50\n",
      "WARNING:tensorflow:Learning rate reduction is conditioned on metric `val_acc` which is not available. Available metrics are: loss,accuracy,val_loss,val_accuracy,lr\n",
      "787/787 - 19s - loss: 0.0127 - accuracy: 0.9962 - val_loss: 0.0096 - val_accuracy: 0.9979 - lr: 0.0010 - 19s/epoch - 24ms/step\n",
      "Epoch 31/50\n",
      "WARNING:tensorflow:Learning rate reduction is conditioned on metric `val_acc` which is not available. Available metrics are: loss,accuracy,val_loss,val_accuracy,lr\n",
      "787/787 - 19s - loss: 0.0111 - accuracy: 0.9968 - val_loss: 0.0095 - val_accuracy: 0.9974 - lr: 0.0010 - 19s/epoch - 24ms/step\n",
      "Epoch 32/50\n",
      "WARNING:tensorflow:Learning rate reduction is conditioned on metric `val_acc` which is not available. Available metrics are: loss,accuracy,val_loss,val_accuracy,lr\n",
      "787/787 - 19s - loss: 0.0107 - accuracy: 0.9968 - val_loss: 0.0091 - val_accuracy: 0.9978 - lr: 0.0010 - 19s/epoch - 24ms/step\n",
      "Epoch 33/50\n",
      "WARNING:tensorflow:Learning rate reduction is conditioned on metric `val_acc` which is not available. Available metrics are: loss,accuracy,val_loss,val_accuracy,lr\n",
      "787/787 - 19s - loss: 0.0117 - accuracy: 0.9967 - val_loss: 0.0101 - val_accuracy: 0.9973 - lr: 0.0010 - 19s/epoch - 24ms/step\n",
      "Epoch 34/50\n",
      "WARNING:tensorflow:Learning rate reduction is conditioned on metric `val_acc` which is not available. Available metrics are: loss,accuracy,val_loss,val_accuracy,lr\n",
      "787/787 - 19s - loss: 0.0112 - accuracy: 0.9966 - val_loss: 0.0131 - val_accuracy: 0.9969 - lr: 0.0010 - 19s/epoch - 24ms/step\n",
      "Epoch 35/50\n",
      "WARNING:tensorflow:Learning rate reduction is conditioned on metric `val_acc` which is not available. Available metrics are: loss,accuracy,val_loss,val_accuracy,lr\n",
      "787/787 - 19s - loss: 0.0109 - accuracy: 0.9966 - val_loss: 0.0102 - val_accuracy: 0.9978 - lr: 0.0010 - 19s/epoch - 24ms/step\n",
      "Epoch 36/50\n",
      "WARNING:tensorflow:Learning rate reduction is conditioned on metric `val_acc` which is not available. Available metrics are: loss,accuracy,val_loss,val_accuracy,lr\n",
      "787/787 - 19s - loss: 0.0108 - accuracy: 0.9968 - val_loss: 0.0118 - val_accuracy: 0.9978 - lr: 0.0010 - 19s/epoch - 24ms/step\n",
      "Epoch 37/50\n",
      "WARNING:tensorflow:Learning rate reduction is conditioned on metric `val_acc` which is not available. Available metrics are: loss,accuracy,val_loss,val_accuracy,lr\n",
      "787/787 - 20s - loss: 0.0112 - accuracy: 0.9966 - val_loss: 0.0096 - val_accuracy: 0.9979 - lr: 0.0010 - 20s/epoch - 25ms/step\n",
      "Epoch 38/50\n",
      "WARNING:tensorflow:Learning rate reduction is conditioned on metric `val_acc` which is not available. Available metrics are: loss,accuracy,val_loss,val_accuracy,lr\n",
      "787/787 - 19s - loss: 0.0098 - accuracy: 0.9969 - val_loss: 0.0133 - val_accuracy: 0.9971 - lr: 0.0010 - 19s/epoch - 24ms/step\n",
      "Epoch 39/50\n",
      "WARNING:tensorflow:Learning rate reduction is conditioned on metric `val_acc` which is not available. Available metrics are: loss,accuracy,val_loss,val_accuracy,lr\n",
      "787/787 - 19s - loss: 0.0105 - accuracy: 0.9969 - val_loss: 0.0090 - val_accuracy: 0.9975 - lr: 0.0010 - 19s/epoch - 24ms/step\n",
      "Epoch 40/50\n",
      "WARNING:tensorflow:Learning rate reduction is conditioned on metric `val_acc` which is not available. Available metrics are: loss,accuracy,val_loss,val_accuracy,lr\n",
      "787/787 - 18s - loss: 0.0102 - accuracy: 0.9970 - val_loss: 0.0114 - val_accuracy: 0.9970 - lr: 0.0010 - 18s/epoch - 23ms/step\n",
      "Epoch 41/50\n",
      "WARNING:tensorflow:Learning rate reduction is conditioned on metric `val_acc` which is not available. Available metrics are: loss,accuracy,val_loss,val_accuracy,lr\n",
      "787/787 - 19s - loss: 0.0106 - accuracy: 0.9968 - val_loss: 0.0108 - val_accuracy: 0.9979 - lr: 0.0010 - 19s/epoch - 24ms/step\n",
      "Epoch 42/50\n",
      "WARNING:tensorflow:Learning rate reduction is conditioned on metric `val_acc` which is not available. Available metrics are: loss,accuracy,val_loss,val_accuracy,lr\n",
      "787/787 - 19s - loss: 0.0103 - accuracy: 0.9972 - val_loss: 0.0123 - val_accuracy: 0.9979 - lr: 0.0010 - 19s/epoch - 24ms/step\n",
      "Epoch 43/50\n",
      "WARNING:tensorflow:Learning rate reduction is conditioned on metric `val_acc` which is not available. Available metrics are: loss,accuracy,val_loss,val_accuracy,lr\n",
      "787/787 - 19s - loss: 0.0102 - accuracy: 0.9971 - val_loss: 0.0112 - val_accuracy: 0.9977 - lr: 0.0010 - 19s/epoch - 24ms/step\n",
      "Epoch 44/50\n",
      "WARNING:tensorflow:Learning rate reduction is conditioned on metric `val_acc` which is not available. Available metrics are: loss,accuracy,val_loss,val_accuracy,lr\n",
      "787/787 - 19s - loss: 0.0097 - accuracy: 0.9970 - val_loss: 0.0094 - val_accuracy: 0.9976 - lr: 0.0010 - 19s/epoch - 24ms/step\n",
      "Epoch 45/50\n",
      "WARNING:tensorflow:Learning rate reduction is conditioned on metric `val_acc` which is not available. Available metrics are: loss,accuracy,val_loss,val_accuracy,lr\n",
      "787/787 - 19s - loss: 0.0106 - accuracy: 0.9969 - val_loss: 0.0086 - val_accuracy: 0.9983 - lr: 0.0010 - 19s/epoch - 24ms/step\n",
      "Epoch 46/50\n",
      "WARNING:tensorflow:Learning rate reduction is conditioned on metric `val_acc` which is not available. Available metrics are: loss,accuracy,val_loss,val_accuracy,lr\n",
      "787/787 - 19s - loss: 0.0099 - accuracy: 0.9969 - val_loss: 0.0086 - val_accuracy: 0.9979 - lr: 0.0010 - 19s/epoch - 24ms/step\n",
      "Epoch 47/50\n",
      "WARNING:tensorflow:Learning rate reduction is conditioned on metric `val_acc` which is not available. Available metrics are: loss,accuracy,val_loss,val_accuracy,lr\n",
      "787/787 - 19s - loss: 0.0092 - accuracy: 0.9973 - val_loss: 0.0088 - val_accuracy: 0.9982 - lr: 0.0010 - 19s/epoch - 24ms/step\n",
      "Epoch 48/50\n",
      "WARNING:tensorflow:Learning rate reduction is conditioned on metric `val_acc` which is not available. Available metrics are: loss,accuracy,val_loss,val_accuracy,lr\n",
      "787/787 - 20s - loss: 0.0096 - accuracy: 0.9971 - val_loss: 0.0094 - val_accuracy: 0.9980 - lr: 0.0010 - 20s/epoch - 25ms/step\n",
      "Epoch 49/50\n",
      "WARNING:tensorflow:Learning rate reduction is conditioned on metric `val_acc` which is not available. Available metrics are: loss,accuracy,val_loss,val_accuracy,lr\n",
      "787/787 - 20s - loss: 0.0091 - accuracy: 0.9973 - val_loss: 0.0095 - val_accuracy: 0.9986 - lr: 0.0010 - 20s/epoch - 25ms/step\n",
      "Epoch 50/50\n",
      "WARNING:tensorflow:Learning rate reduction is conditioned on metric `val_acc` which is not available. Available metrics are: loss,accuracy,val_loss,val_accuracy,lr\n",
      "787/787 - 19s - loss: 0.0087 - accuracy: 0.9974 - val_loss: 0.0108 - val_accuracy: 0.9980 - lr: 0.0010 - 19s/epoch - 24ms/step\n"
     ]
    }
   ],
   "source": [
    "#Prediction model\n",
    "history = model.fit(train_gen,\n",
    "                              epochs = epochs,validation_data = (X_val,Y_val),\n",
    "                              verbose = 2, steps_per_epoch=X_train.shape[0] // batch_size\n",
    "                              , callbacks=[learning_rate_reduction],\n",
    "                             validation_steps = X_val.shape[0] // batch_size)"
   ]
  },
  {
   "cell_type": "code",
   "execution_count": 47,
   "id": "ca5a016a-d99b-4c9d-aac9-52ef1305ff93",
   "metadata": {},
   "outputs": [],
   "source": [
    "# Predict the values from the validation dataset\n",
    "Y_pred = model.predict(X_val)\n",
    "# Convert predictions classes to one hot vectors \n",
    "Y_pred_classes = np.argmax(Y_pred,axis = 1) \n",
    "# Convert validation observations to one hot vectors\n",
    "Y_true = np.argmax(Y_val,axis = 1) \n",
    "# compute the confusion matrix\n",
    "confusion_mtx = confusion_matrix(Y_true, Y_pred_classes) "
   ]
  },
  {
   "cell_type": "code",
   "execution_count": 48,
   "id": "105104f5-c71a-4f67-ac0e-b36b731a8056",
   "metadata": {},
   "outputs": [],
   "source": [
    "# Make predictions about test sets\n",
    "results = model.predict(test)\n",
    "\n",
    "# Convert one-hot vector to number\n",
    "results = np.argmax(results,axis = 1)\n",
    "\n",
    "results = pd.Series(results,name=\"Label\")"
   ]
  },
  {
   "cell_type": "code",
   "execution_count": 49,
   "id": "ec995efd-8e90-40b4-bb11-a8ac46f6a83d",
   "metadata": {},
   "outputs": [],
   "source": [
    "# Save the final result in cnn_mnist_submission.csv\n",
    "submission = pd.concat([pd.Series(range(1,28001),name = \"ImageId\"),results],axis = 1)\n",
    "\n",
    "submission.to_csv(\"cnn_mnist_submission.csv\",index=False)"
   ]
  }
 ],
 "metadata": {
  "kernelspec": {
   "display_name": "Python 3 (ipykernel)",
   "language": "python",
   "name": "python3"
  },
  "language_info": {
   "codemirror_mode": {
    "name": "ipython",
    "version": 3
   },
   "file_extension": ".py",
   "mimetype": "text/x-python",
   "name": "python",
   "nbconvert_exporter": "python",
   "pygments_lexer": "ipython3",
   "version": "3.9.7"
  }
 },
 "nbformat": 4,
 "nbformat_minor": 5
}
